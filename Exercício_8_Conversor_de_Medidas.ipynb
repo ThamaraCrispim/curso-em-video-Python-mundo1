{
  "nbformat": 4,
  "nbformat_minor": 0,
  "metadata": {
    "colab": {
      "provenance": [],
      "authorship_tag": "ABX9TyMjppjOHAEnWsi77yD4BmOs",
      "include_colab_link": true
    },
    "kernelspec": {
      "name": "python3",
      "display_name": "Python 3"
    },
    "language_info": {
      "name": "python"
    }
  },
  "cells": [
    {
      "cell_type": "markdown",
      "metadata": {
        "id": "view-in-github",
        "colab_type": "text"
      },
      "source": [
        "<a href=\"https://colab.research.google.com/github/ThamaraCrispim/curso-em-video-Python-mundo1/blob/main/Exerc%C3%ADcio_8_Conversor_de_Medidas.ipynb\" target=\"_parent\"><img src=\"https://colab.research.google.com/assets/colab-badge.svg\" alt=\"Open In Colab\"/></a>"
      ]
    },
    {
      "cell_type": "markdown",
      "source": [
        "**DESAFIO 008** - Escreva um programa que leia um valor em metros e o exiba convertido em centímetros e milímetros.\n",
        "\n"
      ],
      "metadata": {
        "id": "I6t5qzoO3RhC"
      }
    },
    {
      "cell_type": "code",
      "execution_count": 18,
      "metadata": {
        "id": "Te6HTrPS3GB5",
        "colab": {
          "base_uri": "https://localhost:8080/"
        },
        "outputId": "7c872f1e-587e-49e9-a7e8-b1381ea947a4"
      },
      "outputs": [
        {
          "output_type": "stream",
          "name": "stdout",
          "text": [
            "Digite o valor da sua primeira nota5.4\n",
            "Digite o valor da sua segunda nota8.6\n",
            "O dia média é 7.0\n"
          ]
        }
      ],
      "source": [
        "medida = float(input('Uma distância em metros'))\n",
        "cm = medida * 100\n",
        "mm = medida * 1000\n",
        "print('A medida de {}m corresponde a {}cm e {}mm'.format(medida,cm,mm))"
      ]
    }
  ]
}