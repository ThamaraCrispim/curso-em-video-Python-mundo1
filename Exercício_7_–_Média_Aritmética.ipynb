{
  "nbformat": 4,
  "nbformat_minor": 0,
  "metadata": {
    "colab": {
      "provenance": [],
      "authorship_tag": "ABX9TyMg32MxUGqCGxcG5ObXqaMW",
      "include_colab_link": true
    },
    "kernelspec": {
      "name": "python3",
      "display_name": "Python 3"
    },
    "language_info": {
      "name": "python"
    }
  },
  "cells": [
    {
      "cell_type": "markdown",
      "metadata": {
        "id": "view-in-github",
        "colab_type": "text"
      },
      "source": [
        "<a href=\"https://colab.research.google.com/github/ThamaraCrispim/curso-em-video-Python-mundo1/blob/main/Exerc%C3%ADcio_7_%E2%80%93_M%C3%A9dia_Aritm%C3%A9tica.ipynb\" target=\"_parent\"><img src=\"https://colab.research.google.com/assets/colab-badge.svg\" alt=\"Open In Colab\"/></a>"
      ]
    },
    {
      "cell_type": "markdown",
      "source": [
        "**DESAFIO 007** - Deselvolva um programa que leia as duas notas de um aluno, calcule e mostre a sua média"
      ],
      "metadata": {
        "id": "I6t5qzoO3RhC"
      }
    },
    {
      "cell_type": "code",
      "execution_count": 18,
      "metadata": {
        "id": "Te6HTrPS3GB5",
        "colab": {
          "base_uri": "https://localhost:8080/"
        },
        "outputId": "7c872f1e-587e-49e9-a7e8-b1381ea947a4"
      },
      "outputs": [
        {
          "output_type": "stream",
          "name": "stdout",
          "text": [
            "Digite o valor da sua primeira nota5.4\n",
            "Digite o valor da sua segunda nota8.6\n",
            "O dia média é 7.0\n"
          ]
        }
      ],
      "source": [
        "a = float(input('Digite o valor da sua primeira nota'))\n",
        "b = float(input('Digite o valor da sua segunda nota'))\n",
        "m = (a+b)/2\n",
        "print('O dia média é {}'.format(m))"
      ]
    }
  ]
}