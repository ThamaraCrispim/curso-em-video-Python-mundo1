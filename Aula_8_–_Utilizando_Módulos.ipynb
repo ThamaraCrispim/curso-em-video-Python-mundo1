{
  "nbformat": 4,
  "nbformat_minor": 0,
  "metadata": {
    "colab": {
      "provenance": [],
      "authorship_tag": "ABX9TyM+zsN4faK22kQMTJbMUd/s",
      "include_colab_link": true
    },
    "kernelspec": {
      "name": "python3",
      "display_name": "Python 3"
    },
    "language_info": {
      "name": "python"
    }
  },
  "cells": [
    {
      "cell_type": "markdown",
      "metadata": {
        "id": "view-in-github",
        "colab_type": "text"
      },
      "source": [
        "<a href=\"https://colab.research.google.com/github/ThamaraCrispim/curso-em-video-Python-mundo1/blob/main/Aula_8_%E2%80%93_Utilizando_M%C3%B3dulos.ipynb\" target=\"_parent\"><img src=\"https://colab.research.google.com/assets/colab-badge.svg\" alt=\"Open In Colab\"/></a>"
      ]
    },
    {
      "cell_type": "markdown",
      "source": [
        "Nessa aula, vamos aprender como utilizar módulos em  Python utilizando os comandos import e from/import no Python."
      ],
      "metadata": {
        "id": "jtw4CE505B1z"
      }
    },
    {
      "cell_type": "code",
      "execution_count": 2,
      "metadata": {
        "id": "cwA_9zLl3SaM"
      },
      "outputs": [],
      "source": [
        "import math"
      ]
    },
    {
      "cell_type": "markdown",
      "source": [
        "Ele vai import somente aquilo que eu vou usar do pacote math"
      ],
      "metadata": {
        "id": "2Cq1Bh6y6LIX"
      }
    },
    {
      "cell_type": "code",
      "source": [
        "from math import sqrt"
      ],
      "metadata": {
        "id": "bPzJPof450a_"
      },
      "execution_count": 3,
      "outputs": []
    },
    {
      "cell_type": "code",
      "source": [
        "num = int(input('digite um número'))\n",
        "raiz = math.sqrt(num)\n",
        "print('A raiz de {} é igual a {:.2f}'.format(num, raiz))"
      ],
      "metadata": {
        "colab": {
          "base_uri": "https://localhost:8080/"
        },
        "id": "Eu1_d8XA68Xz",
        "outputId": "24d7c48d-ab13-4783-9faa-1c16c734cbe1"
      },
      "execution_count": 9,
      "outputs": [
        {
          "output_type": "stream",
          "name": "stdout",
          "text": [
            "digite um número15\n",
            "A raiz de 15 é igual a 3.87\n"
          ]
        }
      ]
    }
  ]
}