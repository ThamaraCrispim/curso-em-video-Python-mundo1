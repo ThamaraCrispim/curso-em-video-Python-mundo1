{
  "nbformat": 4,
  "nbformat_minor": 0,
  "metadata": {
    "colab": {
      "provenance": [],
      "authorship_tag": "ABX9TyN7kp09SB+/gxwu1vBPB/rU",
      "include_colab_link": true
    },
    "kernelspec": {
      "name": "python3",
      "display_name": "Python 3"
    },
    "language_info": {
      "name": "python"
    }
  },
  "cells": [
    {
      "cell_type": "markdown",
      "metadata": {
        "id": "view-in-github",
        "colab_type": "text"
      },
      "source": [
        "<a href=\"https://colab.research.google.com/github/ThamaraCrispim/curso-em-video-Python-mundo1/blob/main/Exerc%C3%ADcio_5_%E2%80%93_Antecessor_e_Sucessor.ipynb\" target=\"_parent\"><img src=\"https://colab.research.google.com/assets/colab-badge.svg\" alt=\"Open In Colab\"/></a>"
      ]
    },
    {
      "cell_type": "markdown",
      "source": [
        "**DESAFIO** - Faça um programa que leia um número inteiro e mostre na tela o seu sucessor e o seu antecessor"
      ],
      "metadata": {
        "id": "xOB1ae7PxPV7"
      }
    },
    {
      "cell_type": "code",
      "source": [
        "a = int(input('Digite um valor:'))\n",
        "print('O seu número é {}. O seu sucesso é {} e o antecessor é {}'.format(a,a+1,a-1))"
      ],
      "metadata": {
        "colab": {
          "base_uri": "https://localhost:8080/"
        },
        "id": "7V3X0av0xO3A",
        "outputId": "2dd0439d-b194-4b72-d79c-967b7b57ce27"
      },
      "execution_count": 3,
      "outputs": [
        {
          "output_type": "stream",
          "name": "stdout",
          "text": [
            "Digite um valor:10\n",
            "O seu número é 10. O seu sucesso é 11 e o antecessor é 9\n"
          ]
        }
      ]
    }
  ]
}