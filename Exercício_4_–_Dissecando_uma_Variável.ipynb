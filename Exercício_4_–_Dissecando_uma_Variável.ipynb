{
  "nbformat": 4,
  "nbformat_minor": 0,
  "metadata": {
    "colab": {
      "provenance": [],
      "authorship_tag": "ABX9TyOinP+VQAQ3nMtSztM97kmS",
      "include_colab_link": true
    },
    "kernelspec": {
      "name": "python3",
      "display_name": "Python 3"
    },
    "language_info": {
      "name": "python"
    }
  },
  "cells": [
    {
      "cell_type": "markdown",
      "metadata": {
        "id": "view-in-github",
        "colab_type": "text"
      },
      "source": [
        "<a href=\"https://colab.research.google.com/github/ThamaraCrispim/curso-em-video-Python-mundo1/blob/main/Exerc%C3%ADcio_4_%E2%80%93_Dissecando_uma_Vari%C3%A1vel.ipynb\" target=\"_parent\"><img src=\"https://colab.research.google.com/assets/colab-badge.svg\" alt=\"Open In Colab\"/></a>"
      ]
    },
    {
      "cell_type": "markdown",
      "source": [
        "**DESAFIO 004:** faça um programa que leia algo pelo teclado e mostre na tela\n",
        "seu tipo primitivo e toda as informação possiveis sobre ela"
      ],
      "metadata": {
        "id": "r2lB6BxmopNB"
      }
    },
    {
      "cell_type": "code",
      "execution_count": 3,
      "metadata": {
        "id": "fTBtAdoDolPs",
        "colab": {
          "base_uri": "https://localhost:8080/"
        },
        "outputId": "f2af321b-9ff2-4b58-89a0-ff8bbba981e3"
      },
      "outputs": [
        {
          "output_type": "stream",
          "name": "stdout",
          "text": [
            "Digite algo: \n",
            "O tipo primitivo desse valor é <class 'str'>\n",
            "Só tem espaços? False\n",
            "É um número? False\n",
            "É alfabético? False\n",
            "É alfanumérico? False\n",
            "Está em maiúsculas? False\n",
            "Está em minúsculas? False\n",
            "Está capitalizada? False\n"
          ]
        }
      ],
      "source": [
        "entrada = input(\"Digite algo: \")\n",
        "\n",
        "print(f\"O tipo primitivo desse valor é {type(entrada)}\")\n",
        "\n",
        "print(f\"Só tem espaços? {entrada.isspace()}\")\n",
        "print(f\"É um número? {entrada.isnumeric()}\")\n",
        "print(f\"É alfabético? {entrada.isalpha()}\")\n",
        "print(f\"É alfanumérico? {entrada.isalnum()}\")\n",
        "print(f\"Está em maiúsculas? {entrada.isupper()}\")\n",
        "print(f\"Está em minúsculas? {entrada.islower()}\")\n",
        "print(f\"Está capitalizada? {entrada.istitle()}\")"
      ]
    }
  ]
}