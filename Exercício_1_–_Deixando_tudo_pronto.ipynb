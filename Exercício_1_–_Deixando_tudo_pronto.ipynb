{
  "nbformat": 4,
  "nbformat_minor": 0,
  "metadata": {
    "colab": {
      "provenance": [],
      "authorship_tag": "ABX9TyNWSb9tnUPVXZkRO/izGI3m",
      "include_colab_link": true
    },
    "kernelspec": {
      "name": "python3",
      "display_name": "Python 3"
    },
    "language_info": {
      "name": "python"
    }
  },
  "cells": [
    {
      "cell_type": "markdown",
      "metadata": {
        "id": "view-in-github",
        "colab_type": "text"
      },
      "source": [
        "<a href=\"https://colab.research.google.com/github/ThamaraCrispim/curso-em-video-Python-mundo1/blob/main/Exerc%C3%ADcio_1_%E2%80%93_Deixando_tudo_pronto.ipynb\" target=\"_parent\"><img src=\"https://colab.research.google.com/assets/colab-badge.svg\" alt=\"Open In Colab\"/></a>"
      ]
    },
    {
      "cell_type": "markdown",
      "source": [
        "[Exercício 1 – Deixando tudo pronto](https://www.youtube.com/watch?v=nIHq1MtJaKs&t=44s)\n"
      ],
      "metadata": {
        "id": "0X1ibf8qyfol"
      }
    },
    {
      "cell_type": "code",
      "source": [
        "#001-crie um programa que escreve \"Olá,mundo!\" na tela\n",
        "a = 'Olá, mundo!'\n",
        "print (a)\n",
        "\n",
        "print(\"Olá, mundo!\")"
      ],
      "metadata": {
        "colab": {
          "base_uri": "https://localhost:8080/"
        },
        "id": "I6quO-sa2AUf",
        "outputId": "4b735d2a-76ed-4335-8f80-e4d02a93c95f"
      },
      "execution_count": 8,
      "outputs": [
        {
          "output_type": "stream",
          "name": "stdout",
          "text": [
            "Olá, mundo!\n",
            "Olá, mundo!\n"
          ]
        }
      ]
    }
  ]
}