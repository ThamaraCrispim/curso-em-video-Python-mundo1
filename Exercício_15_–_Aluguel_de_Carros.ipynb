{
  "nbformat": 4,
  "nbformat_minor": 0,
  "metadata": {
    "colab": {
      "provenance": [],
      "authorship_tag": "ABX9TyO10KXjvaMxi/DiT4dXa2kr",
      "include_colab_link": true
    },
    "kernelspec": {
      "name": "python3",
      "display_name": "Python 3"
    },
    "language_info": {
      "name": "python"
    }
  },
  "cells": [
    {
      "cell_type": "markdown",
      "metadata": {
        "id": "view-in-github",
        "colab_type": "text"
      },
      "source": [
        "<a href=\"https://colab.research.google.com/github/ThamaraCrispim/curso-em-video-Python-mundo1/blob/main/Exerc%C3%ADcio_15_%E2%80%93_Aluguel_de_Carros.ipynb\" target=\"_parent\"><img src=\"https://colab.research.google.com/assets/colab-badge.svg\" alt=\"Open In Colab\"/></a>"
      ]
    },
    {
      "cell_type": "markdown",
      "source": [
        "**DESAFIO 014** - Escreva um programa que pergunte a quantidade de Km percorridos por um carro alugado e a quantidade de dias pelos quais ele foi alugado. Calcule o preço a pagar, sabendo que o carro custa R$60 por dia e R$0,15 por Km rodado."
      ],
      "metadata": {
        "id": "j3YeAfDK0UAW"
      }
    },
    {
      "cell_type": "code",
      "execution_count": 8,
      "metadata": {
        "colab": {
          "base_uri": "https://localhost:8080/"
        },
        "id": "jHWRE2mG0Oyx",
        "outputId": "6cd555fc-cdfd-46b5-801d-312dc4b0e5a6"
      },
      "outputs": [
        {
          "output_type": "stream",
          "name": "stdout",
          "text": [
            "Quantos Km foram percorridos com o carro? 20\n",
            "Por quantos dias o carro foi alugado? 3\n",
            "O total a pagar é de R$ 183.00.\n"
          ]
        }
      ],
      "source": [
        "km_percorridos = float(input('Quantos Km foram percorridos com o carro? '))\n",
        "\n",
        "dias_alugados = int(input('Por quantos dias o carro foi alugado? '))\n",
        "\n",
        "preco_dias = dias_alugados * 60\n",
        "preco_km = km_percorridos * 0.15\n",
        "preco_total = preco_dias + preco_km\n",
        "\n",
        "print('O total a pagar é de R$ {:.2f}.'.format(preco_total))\n",
        "\n"
      ]
    }
  ]
}