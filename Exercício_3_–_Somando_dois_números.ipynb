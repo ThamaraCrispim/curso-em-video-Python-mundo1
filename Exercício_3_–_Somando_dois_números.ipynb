{
  "nbformat": 4,
  "nbformat_minor": 0,
  "metadata": {
    "colab": {
      "provenance": [],
      "authorship_tag": "ABX9TyOV5vcHVKd6pw76wqPiPrPX",
      "include_colab_link": true
    },
    "kernelspec": {
      "name": "python3",
      "display_name": "Python 3"
    },
    "language_info": {
      "name": "python"
    }
  },
  "cells": [
    {
      "cell_type": "markdown",
      "metadata": {
        "id": "view-in-github",
        "colab_type": "text"
      },
      "source": [
        "<a href=\"https://colab.research.google.com/github/ThamaraCrispim/curso-em-video-Python-mundo1/blob/main/Exerc%C3%ADcio_3_%E2%80%93_Somando_dois_n%C3%BAmeros.ipynb\" target=\"_parent\"><img src=\"https://colab.research.google.com/assets/colab-badge.svg\" alt=\"Open In Colab\"/></a>"
      ]
    },
    {
      "cell_type": "markdown",
      "source": [
        "**Desafio 003** crie uma programa que leia dois números e mostre a soma entre eles"
      ],
      "metadata": {
        "id": "4_08nKy1nCmL"
      }
    },
    {
      "cell_type": "code",
      "source": [
        "a = float(input('digite um número'))\n",
        "b = float(input('digite outro número'))\n",
        "c = a + b\n",
        "print('A soma entre {} e {} é {}'.format(a,b,c))"
      ],
      "metadata": {
        "colab": {
          "base_uri": "https://localhost:8080/"
        },
        "id": "gJnlFg1YnBt4",
        "outputId": "a8b8d591-f9a6-4789-b252-b897dae72aa1"
      },
      "execution_count": 1,
      "outputs": [
        {
          "output_type": "stream",
          "name": "stdout",
          "text": [
            "digite um número10\n",
            "digite outro número10\n",
            "A soma entre 10.0 e 10.0 é 20.0\n"
          ]
        }
      ]
    }
  ]
}