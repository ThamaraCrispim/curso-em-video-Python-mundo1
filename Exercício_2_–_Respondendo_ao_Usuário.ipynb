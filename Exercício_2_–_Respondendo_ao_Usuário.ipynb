{
  "nbformat": 4,
  "nbformat_minor": 0,
  "metadata": {
    "colab": {
      "provenance": [],
      "authorship_tag": "ABX9TyPihA7gjJcw454OusoFX64g",
      "include_colab_link": true
    },
    "kernelspec": {
      "name": "python3",
      "display_name": "Python 3"
    },
    "language_info": {
      "name": "python"
    }
  },
  "cells": [
    {
      "cell_type": "markdown",
      "metadata": {
        "id": "view-in-github",
        "colab_type": "text"
      },
      "source": [
        "<a href=\"https://colab.research.google.com/github/ThamaraCrispim/curso-em-video-Python-mundo1/blob/main/Exerc%C3%ADcio_2_%E2%80%93_Respondendo_ao_Usu%C3%A1rio.ipynb\" target=\"_parent\"><img src=\"https://colab.research.google.com/assets/colab-badge.svg\" alt=\"Open In Colab\"/></a>"
      ]
    },
    {
      "cell_type": "markdown",
      "source": [
        "[Exercício 2 – Respondendo ao Usuário](https://www.youtube.com/watch?v=FNqdV5Zb_5Q)"
      ],
      "metadata": {
        "id": "2O343aAF44JK"
      }
    },
    {
      "cell_type": "markdown",
      "source": [
        "#faça um programa que leia o nome de uma pessoa e mostre uma mensagem de boas vindas\n",
        "\n"
      ],
      "metadata": {
        "id": "pb9ysIJW5ZCH"
      }
    },
    {
      "cell_type": "code",
      "source": [
        "a = input('qual é o seu nome?')\n",
        "print ('olá,{} prazer em te conhecer!'.format(a))"
      ],
      "metadata": {
        "colab": {
          "base_uri": "https://localhost:8080/"
        },
        "id": "2DylQtzF5d-F",
        "outputId": "8e8d8f0c-bfed-4854-9449-fd4e33c38592"
      },
      "execution_count": 8,
      "outputs": [
        {
          "output_type": "stream",
          "name": "stdout",
          "text": [
            "qual é o seu nome?thamara\n",
            "olá,thamara prazer em te conhecer\n"
          ]
        }
      ]
    }
  ]
}