{
  "nbformat": 4,
  "nbformat_minor": 0,
  "metadata": {
    "colab": {
      "provenance": [],
      "authorship_tag": "ABX9TyNdxEVBrjbhirg1LbKn0V1F",
      "include_colab_link": true
    },
    "kernelspec": {
      "name": "python3",
      "display_name": "Python 3"
    },
    "language_info": {
      "name": "python"
    }
  },
  "cells": [
    {
      "cell_type": "markdown",
      "metadata": {
        "id": "view-in-github",
        "colab_type": "text"
      },
      "source": [
        "<a href=\"https://colab.research.google.com/github/ThamaraCrispim/curso-em-video-Python-mundo1/blob/main/Exerc%C3%ADcio_13_%E2%80%93_Reajuste_Salarial.ipynb\" target=\"_parent\"><img src=\"https://colab.research.google.com/assets/colab-badge.svg\" alt=\"Open In Colab\"/></a>"
      ]
    },
    {
      "cell_type": "markdown",
      "source": [
        "**DESAFIO 013** - Faça um algoritmo que leia o salário de um funcionário e mostre seu novo salário, com 15% de aumento."
      ],
      "metadata": {
        "id": "j3YeAfDK0UAW"
      }
    },
    {
      "cell_type": "code",
      "execution_count": 6,
      "metadata": {
        "colab": {
          "base_uri": "https://localhost:8080/"
        },
        "id": "jHWRE2mG0Oyx",
        "outputId": "dd6e51b8-15b5-4077-d7f1-d8fef5c4a1d4"
      },
      "outputs": [
        {
          "output_type": "stream",
          "name": "stdout",
          "text": [
            "Qual é o salário atual do funcionário? R$ 1000\n",
            "O funcionário que recebia R$ 1000.00, com 15% de aumento, passará a receber R$ 1150.00.\n"
          ]
        }
      ],
      "source": [
        "salario_atual = float(input('Qual é o salário atual do funcionário? R$ '))\n",
        "\n",
        "aumento = salario_atual * 0.15\n",
        "\n",
        "novo_salario = salario_atual + aumento\n",
        "\n",
        "print('O funcionário que recebia R$ {:.2f}, com 15% de aumento, passará a receber R$ {:.2f}.'.format(salario_atual, novo_salario))\n"
      ]
    }
  ]
}