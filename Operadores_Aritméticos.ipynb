{
  "nbformat": 4,
  "nbformat_minor": 0,
  "metadata": {
    "colab": {
      "provenance": [],
      "authorship_tag": "ABX9TyMMFsyTd/AdXE1QwxnS/hVu",
      "include_colab_link": true
    },
    "kernelspec": {
      "name": "python3",
      "display_name": "Python 3"
    },
    "language_info": {
      "name": "python"
    }
  },
  "cells": [
    {
      "cell_type": "markdown",
      "metadata": {
        "id": "view-in-github",
        "colab_type": "text"
      },
      "source": [
        "<a href=\"https://colab.research.google.com/github/ThamaraCrispim/curso-em-video-Python-mundo1/blob/main/Operadores_Aritm%C3%A9ticos.ipynb\" target=\"_parent\"><img src=\"https://colab.research.google.com/assets/colab-badge.svg\" alt=\"Open In Colab\"/></a>"
      ]
    },
    {
      "cell_type": "markdown",
      "source": [
        "[Curso Python #07 - Operadores Aritméticos\n",
        "](https://www.youtube.com/watch?v=Vw6gLypRKmY&t=1s)"
      ],
      "metadata": {
        "id": "Y4Uhun8VnuTC"
      }
    },
    {
      "cell_type": "markdown",
      "source": [
        "\n",
        "\n",
        "*   Adição (+)\n",
        "*   subtração (-)\n",
        "*   Multiplicação (*)\n",
        "*   Divisão (/)\n",
        "*   Potência (**)\n",
        "*   Divisão inteira (//)\n",
        "*   Resto da Divisão (%)\n"
      ],
      "metadata": {
        "id": "LevWEk5zokhv"
      }
    },
    {
      "cell_type": "code",
      "source": [
        "a = 5+ 2\n",
        "print(a)\n",
        "\n",
        "b = 5-2\n",
        "print(b)\n",
        "\n",
        "c = 5*2\n",
        "print(c)\n",
        "\n",
        "d = 5/2\n",
        "print(d)\n"
      ],
      "metadata": {
        "colab": {
          "base_uri": "https://localhost:8080/"
        },
        "id": "d1NEWKRuqT6-",
        "outputId": "f5508bf8-ac17-4baa-b749-6fd0e6242634"
      },
      "execution_count": 13,
      "outputs": [
        {
          "output_type": "stream",
          "name": "stdout",
          "text": [
            "7\n",
            "3\n",
            "10\n",
            "2.5\n"
          ]
        }
      ]
    },
    {
      "cell_type": "code",
      "source": [
        "e = 5**2\n",
        "print(e)\n",
        "\n",
        "f = 5//2\n",
        "print(f)\n",
        "\n",
        "g = 5%2\n",
        "print(g)"
      ],
      "metadata": {
        "colab": {
          "base_uri": "https://localhost:8080/"
        },
        "id": "7AwHVvO_rFht",
        "outputId": "57fcc749-0847-4ed0-f2c9-e9d5b51edc95"
      },
      "execution_count": 15,
      "outputs": [
        {
          "output_type": "stream",
          "name": "stdout",
          "text": [
            "25\n",
            "2\n",
            "1\n"
          ]
        }
      ]
    },
    {
      "cell_type": "markdown",
      "source": [
        "Ordem de precedência\n",
        "\n",
        "1.  ()\n",
        "2.  ( ** )\n",
        "3.  (* , / , // , %)\n",
        "4.  ( + -)\n",
        "\n"
      ],
      "metadata": {
        "id": "pWc2dkLXrIGh"
      }
    },
    {
      "cell_type": "code",
      "source": [
        "x = 'oi'+ 'olá'\n",
        "print(x)"
      ],
      "metadata": {
        "colab": {
          "base_uri": "https://localhost:8080/"
        },
        "id": "fWDnqlZAsybp",
        "outputId": "d5a30231-26fe-43e3-8c73-14d7b2af7834"
      },
      "execution_count": 19,
      "outputs": [
        {
          "output_type": "stream",
          "name": "stdout",
          "text": [
            "oiolá\n"
          ]
        }
      ]
    },
    {
      "cell_type": "code",
      "source": [
        "y = 'Ola'* 5\n",
        "print(y)"
      ],
      "metadata": {
        "colab": {
          "base_uri": "https://localhost:8080/"
        },
        "id": "TjyYn_TAtHEw",
        "outputId": "0599f863-96c4-4f12-8892-edc520c833bf"
      },
      "execution_count": 20,
      "outputs": [
        {
          "output_type": "stream",
          "name": "stdout",
          "text": [
            "OlaOlaOlaOlaOla\n"
          ]
        }
      ]
    },
    {
      "cell_type": "code",
      "source": [
        "z = '='*20\n",
        "print(z)"
      ],
      "metadata": {
        "colab": {
          "base_uri": "https://localhost:8080/"
        },
        "id": "GRn4GnwgtTCo",
        "outputId": "b4f8e7c3-fbbe-4afa-dd20-032c4b049647"
      },
      "execution_count": 21,
      "outputs": [
        {
          "output_type": "stream",
          "name": "stdout",
          "text": [
            "====================\n"
          ]
        }
      ]
    },
    {
      "cell_type": "code",
      "source": [
        "print('='*20)"
      ],
      "metadata": {
        "colab": {
          "base_uri": "https://localhost:8080/"
        },
        "id": "SNLuzUi_tccQ",
        "outputId": "381cae2f-f21d-4a0b-889c-1e5d5e2af284"
      },
      "execution_count": 22,
      "outputs": [
        {
          "output_type": "stream",
          "name": "stdout",
          "text": [
            "====================\n"
          ]
        }
      ]
    },
    {
      "cell_type": "code",
      "source": [
        "nome = input('Qual é o seu nome')\n",
        "print('Pazer em te conhece {}!'.format(nome))"
      ],
      "metadata": {
        "colab": {
          "base_uri": "https://localhost:8080/"
        },
        "id": "IcJ8o5i6tl9o",
        "outputId": "9dbd29a6-4506-42ff-af0a-295195918b46"
      },
      "execution_count": 23,
      "outputs": [
        {
          "output_type": "stream",
          "name": "stdout",
          "text": [
            "Qual é o sei nomethamara\n",
            "Pazer em te conhece thamara!\n"
          ]
        }
      ]
    },
    {
      "cell_type": "code",
      "source": [
        "# Leitura do nome do usuário\n",
        "nome = input('Qual é o seu nome? ')\n",
        "\n",
        "# Exibição do nome formatado, reservando 20 caracteres\n",
        "print('Prazer em te conhecer {:20}!'.format(nome))\n"
      ],
      "metadata": {
        "colab": {
          "base_uri": "https://localhost:8080/"
        },
        "id": "G1olVyDAt7qc",
        "outputId": "38f78ed3-ab6c-4d11-e46a-a843af3a94df"
      },
      "execution_count": 24,
      "outputs": [
        {
          "output_type": "stream",
          "name": "stdout",
          "text": [
            "Qual é o seu nome? thamara\n",
            "Prazer em te conhecer thamara             !\n"
          ]
        }
      ]
    },
    {
      "cell_type": "code",
      "source": [
        "n1 = int(input('um valor:'))\n",
        "n2 = int (input('outro valor'))\n",
        "print('Soma vale {}.'.format(n1+n2))"
      ],
      "metadata": {
        "colab": {
          "base_uri": "https://localhost:8080/"
        },
        "id": "O3Hj8kDIulyE",
        "outputId": "92a12241-eb59-4d47-a0cc-a09ff1e9cac2"
      },
      "execution_count": 26,
      "outputs": [
        {
          "output_type": "stream",
          "name": "stdout",
          "text": [
            "um valor:20\n",
            "outro valor20\n",
            "Soma vale 40\n"
          ]
        }
      ]
    },
    {
      "cell_type": "code",
      "source": [
        "n1 = int(input('Digite um valor:'))\n",
        "n2 = int(input('Digite outro valor'))\n",
        "s  = n1 + n1\n",
        "m  = n1 *n1\n",
        "d  = n1 / n2\n",
        "di = n1 // n2\n",
        "e  = n1**n2\n",
        "print('Soma é {}, o produto é {} e a divisão é {}'.format(s,m,d))\n",
        "print('Divisão inteira {} e potência {}'.format(di,e))"
      ],
      "metadata": {
        "colab": {
          "base_uri": "https://localhost:8080/"
        },
        "id": "lkfxkQ3juzzb",
        "outputId": "95ac5958-1df3-4577-998d-8db6fe3959fa"
      },
      "execution_count": 34,
      "outputs": [
        {
          "output_type": "stream",
          "name": "stdout",
          "text": [
            "Digite um valor:5\n",
            "Digite outro valor5\n",
            "Soma é 10, o produto é 25 e a divisão é 1.0\n",
            "Divisão inteira 1 e potência 3125\n"
          ]
        }
      ]
    }
  ]
}