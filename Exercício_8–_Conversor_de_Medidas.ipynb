{
  "nbformat": 4,
  "nbformat_minor": 0,
  "metadata": {
    "colab": {
      "provenance": [],
      "authorship_tag": "ABX9TyO+zuXm1goeULH5U7IVAXME",
      "include_colab_link": true
    },
    "kernelspec": {
      "name": "python3",
      "display_name": "Python 3"
    },
    "language_info": {
      "name": "python"
    }
  },
  "cells": [
    {
      "cell_type": "markdown",
      "metadata": {
        "id": "view-in-github",
        "colab_type": "text"
      },
      "source": [
        "<a href=\"https://colab.research.google.com/github/ThamaraCrispim/curso-em-video-Python-mundo1/blob/main/Exerc%C3%ADcio_8%E2%80%93_Conversor_de_Medidas.ipynb\" target=\"_parent\"><img src=\"https://colab.research.google.com/assets/colab-badge.svg\" alt=\"Open In Colab\"/></a>"
      ]
    },
    {
      "cell_type": "markdown",
      "source": [
        "**DESAFIO 006** -  Escreva um programa que leia um valor em metros e o exiba convertido em centímetros e milímetros."
      ],
      "metadata": {
        "id": "j3YeAfDK0UAW"
      }
    },
    {
      "cell_type": "code",
      "execution_count": 3,
      "metadata": {
        "colab": {
          "base_uri": "https://localhost:8080/"
        },
        "id": "jHWRE2mG0Oyx",
        "outputId": "4cb8aded-7beb-442b-9a37-21db19cf702f"
      },
      "outputs": [
        {
          "output_type": "stream",
          "name": "stdout",
          "text": [
            "Uma distância em metros200\n",
            "A medida de 200.0m corresponde a 20000.0cm e 200000.0mm\n"
          ]
        }
      ],
      "source": [
        "medida = float(input('Uma distância em metros'))\n",
        "cm = medida * 100\n",
        "mm = medida * 1000\n",
        "print('A medida de {}m corresponde a {}cm e {}mm'.format(medida,cm,mm))"
      ]
    }
  ]
}