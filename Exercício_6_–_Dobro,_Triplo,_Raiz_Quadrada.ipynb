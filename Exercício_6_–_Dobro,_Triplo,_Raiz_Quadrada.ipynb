{
  "nbformat": 4,
  "nbformat_minor": 0,
  "metadata": {
    "colab": {
      "provenance": [],
      "authorship_tag": "ABX9TyNfXNrTzahC5K9nnaXn+CHv",
      "include_colab_link": true
    },
    "kernelspec": {
      "name": "python3",
      "display_name": "Python 3"
    },
    "language_info": {
      "name": "python"
    }
  },
  "cells": [
    {
      "cell_type": "markdown",
      "metadata": {
        "id": "view-in-github",
        "colab_type": "text"
      },
      "source": [
        "<a href=\"https://colab.research.google.com/github/ThamaraCrispim/curso-em-video-Python-mundo1/blob/main/Exerc%C3%ADcio_6_%E2%80%93_Dobro%2C_Triplo%2C_Raiz_Quadrada.ipynb\" target=\"_parent\"><img src=\"https://colab.research.google.com/assets/colab-badge.svg\" alt=\"Open In Colab\"/></a>"
      ]
    },
    {
      "cell_type": "markdown",
      "source": [
        "**DESAFIO 006** - crie um algoritmo que leia um número e mostre o seu Dobro, Triplo e raiz quadrada\n"
      ],
      "metadata": {
        "id": "j3YeAfDK0UAW"
      }
    },
    {
      "cell_type": "code",
      "execution_count": 3,
      "metadata": {
        "colab": {
          "base_uri": "https://localhost:8080/"
        },
        "id": "jHWRE2mG0Oyx",
        "outputId": "41c74dcb-6a32-40bf-ba1c-00c0cb4611fc"
      },
      "outputs": [
        {
          "output_type": "stream",
          "name": "stdout",
          "text": [
            "Digite um valor:2\n",
            "o seu numero é 2, o dobro 4, triplo 6 e a raiz quadrada 1.4142135623730951\n"
          ]
        }
      ],
      "source": [
        "a = int(input('Digite um valor:'))\n",
        "print(\"o seu numero é {}, o dobro {}, triplo {} e a raiz quadrada {}\".format(a, a*2, a*3 , a** 0.5))"
      ]
    }
  ]
}