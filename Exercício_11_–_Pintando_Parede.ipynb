{
  "nbformat": 4,
  "nbformat_minor": 0,
  "metadata": {
    "colab": {
      "provenance": [],
      "authorship_tag": "ABX9TyM9tgmESWub5afyLjcm+OUM",
      "include_colab_link": true
    },
    "kernelspec": {
      "name": "python3",
      "display_name": "Python 3"
    },
    "language_info": {
      "name": "python"
    }
  },
  "cells": [
    {
      "cell_type": "markdown",
      "metadata": {
        "id": "view-in-github",
        "colab_type": "text"
      },
      "source": [
        "<a href=\"https://colab.research.google.com/github/ThamaraCrispim/curso-em-video-Python-mundo1/blob/main/Exerc%C3%ADcio_11_%E2%80%93_Pintando_Parede.ipynb\" target=\"_parent\"><img src=\"https://colab.research.google.com/assets/colab-badge.svg\" alt=\"Open In Colab\"/></a>"
      ]
    },
    {
      "cell_type": "markdown",
      "source": [
        "**DESAFIO 011** - Faça um programa que leia a largura e a altura de uma parede em metros, calcule a sua área e a quantidade de tinta necessária para pintá-la, sabendo que cada litro de tinta pinta uma área de 2 metros quadrados."
      ],
      "metadata": {
        "id": "j3YeAfDK0UAW"
      }
    },
    {
      "cell_type": "code",
      "execution_count": 2,
      "metadata": {
        "colab": {
          "base_uri": "https://localhost:8080/"
        },
        "id": "jHWRE2mG0Oyx",
        "outputId": "2ab3f869-44aa-47bb-fb7c-199676297fd9"
      },
      "outputs": [
        {
          "output_type": "stream",
          "name": "stdout",
          "text": [
            "Qual é a Altura da parede (em metros): 3\n",
            "Qual é a Largura da Parede (em metros): 2\n",
            "Para pintar essa parede, você precisará de 3.00 litros de tinta.\n"
          ]
        }
      ],
      "source": [
        "altura = float(input('Qual é a Altura da parede (em metros): '))\n",
        "largura = float(input('Qual é a Largura da Parede (em metros): '))\n",
        "area = altura * largura\n",
        "tinta_necessaria = area / 2\n",
        "print('Para pintar essa parede, você precisará de {:.2f} litros de tinta.'.format(tinta_necessaria))\n"
      ]
    }
  ]
}