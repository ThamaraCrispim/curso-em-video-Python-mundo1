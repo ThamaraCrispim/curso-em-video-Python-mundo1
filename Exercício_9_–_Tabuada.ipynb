{
  "nbformat": 4,
  "nbformat_minor": 0,
  "metadata": {
    "colab": {
      "provenance": [],
      "authorship_tag": "ABX9TyNJxz7ijdibW+TAOb430Yh/",
      "include_colab_link": true
    },
    "kernelspec": {
      "name": "python3",
      "display_name": "Python 3"
    },
    "language_info": {
      "name": "python"
    }
  },
  "cells": [
    {
      "cell_type": "markdown",
      "metadata": {
        "id": "view-in-github",
        "colab_type": "text"
      },
      "source": [
        "<a href=\"https://colab.research.google.com/github/ThamaraCrispim/curso-em-video-Python-mundo1/blob/main/Exerc%C3%ADcio_9_%E2%80%93_Tabuada.ipynb\" target=\"_parent\"><img src=\"https://colab.research.google.com/assets/colab-badge.svg\" alt=\"Open In Colab\"/></a>"
      ]
    },
    {
      "cell_type": "markdown",
      "source": [
        "**DESAFIO 006** - Exercício Python 9: Faça um programa que leia um número Inteiro qualquer e mostre na tela a sua tabuada"
      ],
      "metadata": {
        "id": "j3YeAfDK0UAW"
      }
    },
    {
      "cell_type": "code",
      "execution_count": 8,
      "metadata": {
        "colab": {
          "base_uri": "https://localhost:8080/"
        },
        "id": "jHWRE2mG0Oyx",
        "outputId": "ea4cbbf5-b7a4-41c7-9c05-89b00f058151"
      },
      "outputs": [
        {
          "output_type": "stream",
          "name": "stdout",
          "text": [
            "digite um valor para ver a sua tabuada2\n",
            "2 x 1 = 2\n",
            "2 x 2 = 4\n",
            "2 x 3 = 6\n",
            "2 x 4 = 8\n",
            "2 x 5 = 10\n",
            "2 x 6 = 12\n",
            "2 x 7 = 14\n",
            "2 x 7 = 14\n",
            "2 x 8 = 16\n",
            "2 x 9 = 18\n",
            "2 x 10 = 20\n"
          ]
        }
      ],
      "source": [
        "a = int(input('digite um valor para ver a sua tabuada'))\n",
        "print ('{} x {} = {}'.format(a,1, a*1))\n",
        "print ('{} x {} = {}'.format(a,2, a*2))\n",
        "print ('{} x {} = {}'.format(a,3, a*3))\n",
        "print ('{} x {} = {}'.format(a,4, a*4))\n",
        "print ('{} x {} = {}'.format(a,5, a*5))\n",
        "print ('{} x {} = {}'.format(a,6, a*6))\n",
        "print ('{} x {} = {}'.format(a,7, a*7))\n",
        "print ('{} x {} = {}'.format(a,7, a*7))\n",
        "print ('{} x {} = {}'.format(a,8, a*8))\n",
        "print ('{} x {} = {}'.format(a,9, a*9))\n",
        "print ('{} x {} = {}'.format(a,10, a*10))"
      ]
    }
  ]
}