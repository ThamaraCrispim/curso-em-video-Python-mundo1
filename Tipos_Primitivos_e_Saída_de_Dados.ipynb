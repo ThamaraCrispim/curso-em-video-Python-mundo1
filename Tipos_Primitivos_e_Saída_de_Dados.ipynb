{
  "nbformat": 4,
  "nbformat_minor": 0,
  "metadata": {
    "colab": {
      "provenance": [],
      "authorship_tag": "ABX9TyPrlcYA/snkXrmlsfO6pq6B",
      "include_colab_link": true
    },
    "kernelspec": {
      "name": "python3",
      "display_name": "Python 3"
    },
    "language_info": {
      "name": "python"
    }
  },
  "cells": [
    {
      "cell_type": "markdown",
      "metadata": {
        "id": "view-in-github",
        "colab_type": "text"
      },
      "source": [
        "<a href=\"https://colab.research.google.com/github/ThamaraCrispim/curso-em-video-Python-mundo1/blob/main/Tipos_Primitivos_e_Sa%C3%ADda_de_Dados.ipynb\" target=\"_parent\"><img src=\"https://colab.research.google.com/assets/colab-badge.svg\" alt=\"Open In Colab\"/></a>"
      ]
    },
    {
      "cell_type": "markdown",
      "source": [
        "[Tipos Primitivos e Saída de Dados](https://www.youtube.com/watch?v=hdDHg1p3YVc&t=6s)"
      ],
      "metadata": {
        "id": "OUnCSS3DeoeH"
      }
    },
    {
      "cell_type": "code",
      "execution_count": null,
      "metadata": {
        "colab": {
          "base_uri": "https://localhost:8080/"
        },
        "id": "6ZgMpuWbeXPO",
        "outputId": "e507174a-e288-4b87-dc5e-9ea7f369da16"
      },
      "outputs": [
        {
          "output_type": "stream",
          "name": "stdout",
          "text": [
            "digite um número:10\n",
            "digite outro número10\n",
            "soma vale 1010\n"
          ]
        }
      ],
      "source": [
        "a = input('digite um número:')\n",
        "b = input('digite outro número')\n",
        "s = a + b\n",
        "print('soma vale',s)\n",
        "\n",
        "#o codígo não esta funciona."
      ]
    },
    {
      "cell_type": "code",
      "source": [
        "a = int(input('digite um número'))\n",
        "b = int(input('digite outro número'))\n",
        "s = a + b\n",
        "print('soma VALE', s)"
      ],
      "metadata": {
        "colab": {
          "base_uri": "https://localhost:8080/"
        },
        "id": "ewLEttqdgIEW",
        "outputId": "c4035948-e2d0-4919-f267-e79fdf112652"
      },
      "execution_count": null,
      "outputs": [
        {
          "output_type": "stream",
          "name": "stdout",
          "text": [
            "digite um número10\n",
            "digite outro número10\n",
            "SIMA VALE 20\n"
          ]
        }
      ]
    },
    {
      "cell_type": "markdown",
      "source": [
        "* int - número interio > 7,-4,0,9875\n",
        "* float - número real -> 5.5, 0,054\n",
        "* bool - Thue / False\n",
        "* str - palavras -> 'Olá'"
      ],
      "metadata": {
        "id": "V8YpNEy4hAGa"
      }
    },
    {
      "cell_type": "code",
      "source": [
        "#forma de diferente de usar o print\n",
        "a = int(input('digite um número'))\n",
        "b = int(input('digite outro número'))\n",
        "s = a + b\n",
        "print('soma vale {}'.format(s))"
      ],
      "metadata": {
        "colab": {
          "base_uri": "https://localhost:8080/"
        },
        "id": "nAzVodGWhIGV",
        "outputId": "5deb5c98-459e-4783-88c6-53d0bf3291c3"
      },
      "execution_count": null,
      "outputs": [
        {
          "output_type": "stream",
          "name": "stdout",
          "text": [
            "digite um número10\n",
            "digite outro número10\n",
            "soma vale 20\n"
          ]
        }
      ]
    },
    {
      "cell_type": "code",
      "source": [
        "n1 = input('digite um valot=:')\n",
        "print(type(n1))\n",
        "\n",
        "#podemos obversa que tipo dela é srt porque não definimos o tipo dela."
      ],
      "metadata": {
        "colab": {
          "base_uri": "https://localhost:8080/"
        },
        "id": "K7S3FwKgh1n_",
        "outputId": "2c48b39d-c639-4be4-e38e-c36d047b1214"
      },
      "execution_count": null,
      "outputs": [
        {
          "output_type": "stream",
          "name": "stdout",
          "text": [
            "digite um valot=:10\n",
            "<class 'str'>\n"
          ]
        }
      ]
    },
    {
      "cell_type": "code",
      "source": [
        "n1 = int(input('digite um numero'))\n",
        "print(type(n1))"
      ],
      "metadata": {
        "id": "n9Iix7EyjwVM",
        "colab": {
          "base_uri": "https://localhost:8080/"
        },
        "outputId": "d681d098-6389-4de9-f14d-4473e3b7aff5"
      },
      "execution_count": 17,
      "outputs": [
        {
          "output_type": "stream",
          "name": "stdout",
          "text": [
            "digite um numero52\n",
            "<class 'int'>\n"
          ]
        }
      ]
    },
    {
      "cell_type": "code",
      "source": [
        "n1 = int(input('digite um numero'))\n",
        "print(type(n1))"
      ],
      "metadata": {
        "colab": {
          "base_uri": "https://localhost:8080/"
        },
        "id": "LJLZsqnTk1Iz",
        "outputId": "b1e4b83d-85e7-415a-fd79-eb33c4087e25"
      },
      "execution_count": 20,
      "outputs": [
        {
          "output_type": "stream",
          "name": "stdout",
          "text": [
            "digite um numero10\n",
            "<class 'int'>\n"
          ]
        }
      ]
    },
    {
      "cell_type": "code",
      "source": [
        "n1 = int(input('digite um valor'))\n",
        "n2 = int(input('digite outro valor'))\n",
        "s  = n1 + n2\n",
        "print('A soma de {} e {} é {}'.format(n1,n2,s))"
      ],
      "metadata": {
        "id": "2fRDW7sEkCOm",
        "colab": {
          "base_uri": "https://localhost:8080/"
        },
        "outputId": "c68b17ba-63c0-4c43-f1fd-4d886d4c1dae"
      },
      "execution_count": 18,
      "outputs": [
        {
          "output_type": "stream",
          "name": "stdout",
          "text": [
            "digite um valor10\n",
            "digite outro valor10\n",
            "A soma de 10 e 10 é 20\n"
          ]
        }
      ]
    }
  ]
}