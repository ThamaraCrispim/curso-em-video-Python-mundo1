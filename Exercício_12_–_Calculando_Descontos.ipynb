{
  "nbformat": 4,
  "nbformat_minor": 0,
  "metadata": {
    "colab": {
      "provenance": [],
      "authorship_tag": "ABX9TyOBZx8UT10SdUUp4KszXoH3",
      "include_colab_link": true
    },
    "kernelspec": {
      "name": "python3",
      "display_name": "Python 3"
    },
    "language_info": {
      "name": "python"
    }
  },
  "cells": [
    {
      "cell_type": "markdown",
      "metadata": {
        "id": "view-in-github",
        "colab_type": "text"
      },
      "source": [
        "<a href=\"https://colab.research.google.com/github/ThamaraCrispim/curso-em-video-Python-mundo1/blob/main/Exerc%C3%ADcio_12_%E2%80%93_Calculando_Descontos.ipynb\" target=\"_parent\"><img src=\"https://colab.research.google.com/assets/colab-badge.svg\" alt=\"Open In Colab\"/></a>"
      ]
    },
    {
      "cell_type": "markdown",
      "source": [
        "**DESAFIO 012** - Exercício Python 12: Faça um algoritmo que leia o preço de um produto e mostre seu novo preço, com 5% de desconto."
      ],
      "metadata": {
        "id": "j3YeAfDK0UAW"
      }
    },
    {
      "cell_type": "code",
      "execution_count": 4,
      "metadata": {
        "colab": {
          "base_uri": "https://localhost:8080/"
        },
        "id": "jHWRE2mG0Oyx",
        "outputId": "9a8e7d75-f91f-4c2a-eb77-e24627dd3e91"
      },
      "outputs": [
        {
          "output_type": "stream",
          "name": "stdout",
          "text": [
            "Qual é o preço do produto? R$ 50.50\n",
            "O produto que custava R$ 50.50, com 5% de desconto vai custar R$ 47.98.\n"
          ]
        }
      ],
      "source": [
        "preco = float(input('Qual é o preço do produto? R$ '))\n",
        "\n",
        "desconto = preco * 0.05\n",
        "\n",
        "novo_preco = preco - desconto\n",
        "\n",
        "print('O produto que custava R$ {:.2f}, com 5% de desconto vai custar R$ {:.2f}.'.format(preco, novo_preco))"
      ]
    }
  ]
}